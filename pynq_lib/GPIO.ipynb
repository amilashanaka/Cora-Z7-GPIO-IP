{
 "cells": [
  {
   "cell_type": "code",
   "execution_count": 1,
   "metadata": {},
   "outputs": [
    {
     "data": {
      "application/javascript": [
       "\n",
       "try {\n",
       "require(['notebook/js/codecell'], function(codecell) {\n",
       "  codecell.CodeCell.options_default.highlight_modes[\n",
       "      'magic_text/x-csrc'] = {'reg':[/^%%microblaze/]};\n",
       "  Jupyter.notebook.events.one('kernel_ready.Kernel', function(){\n",
       "      Jupyter.notebook.get_cells().map(function(cell){\n",
       "          if (cell.cell_type == 'code'){ cell.auto_highlight(); } }) ;\n",
       "  });\n",
       "});\n",
       "} catch (e) {};\n"
      ]
     },
     "metadata": {},
     "output_type": "display_data"
    }
   ],
   "source": [
    "import pynq\n",
    "from pynq import Overlay\n",
    "from pynq import MMIO\n",
    "import time\n",
    "from operator import*\n",
    "import matplotlib.pyplot as plt\n",
    "\n",
    "# Load the SPI overlay\n",
    "ol = Overlay(\"gpio.bit\")"
   ]
  },
  {
   "cell_type": "code",
   "execution_count": 2,
   "metadata": {},
   "outputs": [
    {
     "name": "stdout",
     "output_type": "stream",
     "text": [
      "{'GPIO_Control_0': {'fullpath': 'GPIO_Control_0', 'type': 'spicer.local:user:GPIO_Control:1.0', 'state': None, 'addr_range': 65536, 'phys_addr': 1136656384, 'mem_id': 'S00_AXI', 'gpio': {}, 'interrupts': {}, 'parameters': {'C_S00_AXI_ADDR_WIDTH': '4', 'C_S00_AXI_DATA_WIDTH': '32', 'LED_WIDTH': '6', 'SWITCH_WIDTH': '2', 'Component_Name': 'design_1_GPIO_Control_0_0', 'EDK_IPTYPE': 'PERIPHERAL', 'C_S00_AXI_BASEADDR': '0x43C00000', 'C_S00_AXI_HIGHADDR': '0x43C0FFFF'}, 'registers': {}, 'device': <pynq.pl_server.device.XlnkDevice object at 0xb02e2710>, 'driver': <class 'pynq.overlay.DefaultIP'>}}\n"
     ]
    }
   ],
   "source": [
    "print(ol.ip_dict)"
   ]
  },
  {
   "cell_type": "code",
   "execution_count": 3,
   "metadata": {},
   "outputs": [],
   "source": [
    "gpio=ol.GPIO_Control_0"
   ]
  },
  {
   "cell_type": "code",
   "execution_count": 4,
   "metadata": {},
   "outputs": [],
   "source": [
    "gpio?"
   ]
  },
  {
   "cell_type": "code",
   "execution_count": 5,
   "metadata": {},
   "outputs": [
    {
     "name": "stdout",
     "output_type": "stream",
     "text": [
      "0x43c00000\n"
     ]
    }
   ],
   "source": [
    "gpio_ip = ol.ip_dict['GPIO_Control_0']\n",
    "gpio_base_address = (gpio_ip['phys_addr'])\n",
    "gpio_address_range = (gpio_ip['addr_range']) \n",
    "\n",
    "print(hex(gpio_base_address))"
   ]
  },
  {
   "cell_type": "code",
   "execution_count": 7,
   "metadata": {},
   "outputs": [],
   "source": [
    "gpio_mmio = MMIO(gpio_base_address, gpio_address_range)\n",
    "gpio_mmio.debug = True"
   ]
  },
  {
   "cell_type": "code",
   "execution_count": 8,
   "metadata": {},
   "outputs": [
    {
     "name": "stdout",
     "output_type": "stream",
     "text": [
      "Help on MMIO in module pynq.mmio object:\n",
      "\n",
      "class MMIO(builtins.object)\n",
      " |  This class exposes API for MMIO read and write.\n",
      " |  \n",
      " |  Attributes\n",
      " |  ----------\n",
      " |  base_addr : int\n",
      " |      The base address, not necessarily page aligned.\n",
      " |  length : int\n",
      " |      The length in bytes of the address range.\n",
      " |  debug : bool\n",
      " |      Turn on debug mode if it is True.\n",
      " |  array : numpy.ndarray\n",
      " |      A numpy view of the mapped range for efficient assignment\n",
      " |  \n",
      " |  Methods defined here:\n",
      " |  \n",
      " |  __init__(self, base_addr, length=4, debug=False, device=None)\n",
      " |      Return a new MMIO object.\n",
      " |      \n",
      " |      Parameters\n",
      " |      ----------\n",
      " |      base_addr : int\n",
      " |          The base address of the MMIO.\n",
      " |      length : int\n",
      " |          The length in bytes; default is 4.\n",
      " |      debug : bool\n",
      " |          Turn on debug mode if it is True; default is False.\n",
      " |  \n",
      " |  read_mm(self, offset=0, length=4)\n",
      " |      The method to read data from MMIO.\n",
      " |      \n",
      " |      Parameters\n",
      " |      ----------\n",
      " |      offset : int\n",
      " |          The read offset from the MMIO base address.\n",
      " |      length : int\n",
      " |          The length of the data in bytes.\n",
      " |      \n",
      " |      Returns\n",
      " |      -------\n",
      " |      list\n",
      " |          A list of data read out from MMIO\n",
      " |  \n",
      " |  read_reg(self, offset=0, length=4)\n",
      " |      The method to read data from MMIO.\n",
      " |      \n",
      " |      Parameters\n",
      " |      ----------\n",
      " |      offset : int\n",
      " |          The read offset from the MMIO base address.\n",
      " |      length : int\n",
      " |          The length of the data in bytes.\n",
      " |      \n",
      " |      Returns\n",
      " |      -------\n",
      " |      list\n",
      " |          A list of data read out from MMIO\n",
      " |  \n",
      " |  write_mm(self, offset, data)\n",
      " |      The method to write data to MMIO.\n",
      " |      \n",
      " |      Parameters\n",
      " |      ----------\n",
      " |      offset : int\n",
      " |          The write offset from the MMIO base address.\n",
      " |      data : int / bytes\n",
      " |          The integer(s) to be written into MMIO.\n",
      " |      \n",
      " |      Returns\n",
      " |      -------\n",
      " |      None\n",
      " |  \n",
      " |  write_reg(self, offset, data)\n",
      " |      The method to write data to MMIO.\n",
      " |      \n",
      " |      Parameters\n",
      " |      ----------\n",
      " |      offset : int\n",
      " |          The write offset from the MMIO base address.\n",
      " |      data : int / bytes\n",
      " |          The integer(s) to be written into MMIO.\n",
      " |      \n",
      " |      Returns\n",
      " |      -------\n",
      " |      None\n",
      " |  \n",
      " |  ----------------------------------------------------------------------\n",
      " |  Data descriptors defined here:\n",
      " |  \n",
      " |  __dict__\n",
      " |      dictionary for instance variables (if defined)\n",
      " |  \n",
      " |  __weakref__\n",
      " |      list of weak references to the object (if defined)\n",
      "\n"
     ]
    }
   ],
   "source": [
    "help(gpio_mmio)"
   ]
  },
  {
   "cell_type": "code",
   "execution_count": 12,
   "metadata": {},
   "outputs": [
    {
     "name": "stdout",
     "output_type": "stream",
     "text": [
      "MMIO Debug: Reading 4 bytes from offset 8\n",
      "0\n"
     ]
    }
   ],
   "source": [
    "print(gpio_mmio.read_reg(0x08))"
   ]
  },
  {
   "cell_type": "code",
   "execution_count": 13,
   "metadata": {},
   "outputs": [
    {
     "name": "stdout",
     "output_type": "stream",
     "text": [
      "MMIO Debug: Reading 4 bytes from offset 4\n",
      "1\n"
     ]
    }
   ],
   "source": [
    "print(gpio_mmio.read(0x04))"
   ]
  },
  {
   "cell_type": "code",
   "execution_count": 22,
   "metadata": {},
   "outputs": [
    {
     "ename": "TypeError",
     "evalue": "write_mm() missing 1 required positional argument: 'data'",
     "output_type": "error",
     "traceback": [
      "\u001b[0;31m---------------------------------------------------------------------------\u001b[0m",
      "\u001b[0;31mTypeError\u001b[0m                                 Traceback (most recent call last)",
      "\u001b[0;32m<ipython-input-22-53169bf126bf>\u001b[0m in \u001b[0;36m<module>\u001b[0;34m()\u001b[0m\n\u001b[0;32m----> 1\u001b[0;31m \u001b[0mgpio_mmio\u001b[0m\u001b[0;34m.\u001b[0m\u001b[0mwrite\u001b[0m\u001b[0;34m(\u001b[0m\u001b[0;36m0x03\u001b[0m\u001b[0;34m)\u001b[0m\u001b[0;34m\u001b[0m\u001b[0m\n\u001b[0m",
      "\u001b[0;31mTypeError\u001b[0m: write_mm() missing 1 required positional argument: 'data'"
     ]
    }
   ],
   "source": [
    "gpio_mmio.write(0x04,0x01)"
   ]
  },
  {
   "cell_type": "code",
   "execution_count": null,
   "metadata": {},
   "outputs": [],
   "source": []
  }
 ],
 "metadata": {
  "kernelspec": {
   "display_name": "Python 3",
   "language": "python",
   "name": "python3"
  },
  "language_info": {
   "codemirror_mode": {
    "name": "ipython",
    "version": 3
   },
   "file_extension": ".py",
   "mimetype": "text/x-python",
   "name": "python",
   "nbconvert_exporter": "python",
   "pygments_lexer": "ipython3",
   "version": "3.6.5"
  }
 },
 "nbformat": 4,
 "nbformat_minor": 2
}
